{
  "nbformat": 4,
  "nbformat_minor": 0,
  "metadata": {
    "colab": {
      "name": "sigmoid_fuction_and_the_perceptron.ipynb",
      "provenance": [],
      "collapsed_sections": [],
      "authorship_tag": "ABX9TyOBNBvvTgo3qK8IXbBFRFGj",
      "include_colab_link": true
    },
    "kernelspec": {
      "name": "python3",
      "display_name": "Python 3"
    }
  },
  "cells": [
    {
      "cell_type": "markdown",
      "metadata": {
        "id": "view-in-github",
        "colab_type": "text"
      },
      "source": [
        "<a href=\"https://colab.research.google.com/github/andrewpkitchin/notes_on_neural_networks/blob/main/sigmoid_fuction_and_the_perceptron.ipynb\" target=\"_parent\"><img src=\"https://colab.research.google.com/assets/colab-badge.svg\" alt=\"Open In Colab\"/></a>"
      ]
    },
    {
      "cell_type": "code",
      "metadata": {
        "id": "IITGF1LL3fvc"
      },
      "source": [
        "# dependencies\n",
        "\n",
        "import numpy as np, matplotlib.pyplot as plt, csv"
      ],
      "execution_count": 1,
      "outputs": []
    },
    {
      "cell_type": "markdown",
      "source": [
        "## sigmoid function"
      ],
      "metadata": {
        "id": "zQKLKkicwLCi"
      }
    },
    {
      "cell_type": "code",
      "source": [
        "# sigmoid function\n",
        "# https://en.wikipedia.org/wiki/Sigmoid_function\n",
        "\n",
        "def sigmoid(x):\n",
        " return 1/(1+np.exp(-x))\n",
        "\n",
        "# the main reason why we use sigmoid function is because its range is between 0 and 1 \n",
        "# therefore it can be used in models where we want to predict a probability as an output"
      ],
      "metadata": {
        "id": "GjJAog5TuYC5"
      },
      "execution_count": 2,
      "outputs": []
    },
    {
      "cell_type": "code",
      "metadata": {
        "id": "7YnJHUvi2_WU",
        "colab": {
          "base_uri": "https://localhost:8080/",
          "height": 312
        },
        "outputId": "3da6cea1-12b0-4454-f4a8-b6916a26bf91"
      },
      "source": [
        "# visualizing the sigmoid fuction\n",
        "\n",
        "points = np.linspace(-10,10,100)\n",
        " \n",
        "plt.plot(points, sigmoid(points))\n",
        "plt.xlabel(\"input\")\n",
        "plt.ylabel(\"output\")\n",
        "plt.title(\"sigmoid function\")"
      ],
      "execution_count": 3,
      "outputs": [
        {
          "output_type": "execute_result",
          "data": {
            "text/plain": [
              "Text(0.5, 1.0, 'sigmoid function')"
            ]
          },
          "metadata": {},
          "execution_count": 3
        },
        {
          "output_type": "display_data",
          "data": {
            "text/plain": [
              "<Figure size 432x288 with 1 Axes>"
            ],
            "image/png": "[encoded data removed]"
          },
          "metadata": {
            "needs_background": "light"
          }
        }
      ]
    },
    {
      "cell_type": "code",
      "metadata": {
        "id": "sssl8vuj-8yB",
        "colab": {
          "base_uri": "https://localhost:8080/",
          "height": 312
        },
        "outputId": "d5bcf7c4-72cb-4911-9387-c70a7f367126"
      },
      "source": [
        "# the derviative of the sigmoid function\n",
        "\n",
        "def sigmoid_der(x):\n",
        " return sigmoid(x)*(1-sigmoid(x))\n",
        "\n",
        "# visualizing the derviative of the sigmoid function\n",
        "\n",
        "points = np.linspace(-10,10,100)\n",
        "\n",
        "plt.plot(points, sigmoid_der(points))\n",
        "plt.xlabel(\"input\")\n",
        "plt.ylabel(\"output\")\n",
        "plt.title(\"the derivative of the sigmoid function\")"
      ],
      "execution_count": 4,
      "outputs": [
        {
          "output_type": "execute_result",
          "data": {
            "text/plain": [
              "Text(0.5, 1.0, 'the derivative of the sigmoid function')"
            ]
          },
          "metadata": {},
          "execution_count": 4
        },
        {
          "output_type": "display_data",
          "data": {
            "text/plain": [
              "<Figure size 432x288 with 1 Axes>"
            ],
            "image/png": "[encoded data removed]"
          },
          "metadata": {
            "needs_background": "light"
          }
        }
      ]
    },
    {
      "cell_type": "markdown",
      "source": [
        "## single neuron (perceptron)"
      ],
      "metadata": {
        "id": "a5Iz3v0AwjDx"
      }
    },
    {
      "cell_type": "code",
      "source": [
        "# let's grab some data to play with\n",
        "\n",
        "import requests\n",
        "image_url = 'https://archive.ics.uci.edu/ml/machine-learning-databases/00267/data_banknote_authentication.txt'\n",
        "\n",
        "r = requests.get(image_url) # create HTTP response object\n",
        "  \n",
        "with open(\"data_banknote_authentication.txt\",'wb') as f:\n",
        "    f.write(r.content)"
      ],
      "metadata": {
        "id": "zI0fKtnsv91L"
      },
      "execution_count": 5,
      "outputs": []
    },
    {
      "cell_type": "markdown",
      "source": [
        "banknote authentication dataset\n",
        "\n",
        "1. variance of Wavelet Transformed image (continuous)\n",
        "2. skewness of Wavelet Transformed image (continuous)\n",
        "3. kurtosis of Wavelet Transformed image (continuous)\n",
        "4. entropy of image (continuous)\n",
        "5. class (0 for authentic, 1 for inauthentic)\n",
        "\n",
        "the idea is to try to use the data from (1-4) to predict the class (5)\n"
      ],
      "metadata": {
        "id": "RqZb2N4VxAmm"
      }
    },
    {
      "cell_type": "code",
      "source": [
        "# given that the classification of the bank notes is binary, randomly guessing would give us correct answers 50% of the time\n",
        "# but let's check it out anyway \n",
        "\n",
        "# randomly generated answers\n",
        "\n",
        "count = 0\n",
        "count_correct = 0\n",
        "\n",
        "with open('/content/data_banknote_authentication.txt', newline='') as data:\n",
        "    reader = csv.reader(data)\n",
        "    for row in reader:\n",
        "      count += 1\n",
        "      inputs = np.array([float(row[0]), float(row[1]), float(row[2]), float(row[3])])\n",
        "      #print(round(output),row[4])\n",
        "      if np.random.randint(0,2) == int(row[4]):\n",
        "        count_correct +=1\n",
        "    print(count_correct/count)"
      ],
      "metadata": {
        "colab": {
          "base_uri": "https://localhost:8080/"
        },
        "id": "AiqUokuXxPK-",
        "outputId": "ad298dff-cf5c-49f7-8cc9-933a935da9a2"
      },
      "execution_count": 6,
      "outputs": [
        {
          "output_type": "stream",
          "name": "stdout",
          "text": [
            "0.5014577259475219\n"
          ]
        }
      ]
    },
    {
      "cell_type": "markdown",
      "source": [
        "lets split the data set into training and testing sets"
      ],
      "metadata": {
        "id": "IIjvX0M-26f0"
      }
    },
    {
      "cell_type": "code",
      "source": [
        "import pandas as pd\n",
        "\n",
        "df = pd.read_csv('/content/data_banknote_authentication.txt',\n",
        "          header=None)"
      ],
      "metadata": {
        "id": "pp2IFcDX5TkB"
      },
      "execution_count": 10,
      "outputs": []
    },
    {
      "cell_type": "code",
      "source": [
        "# randomizing the order of the rows in the csv\n",
        "\n",
        "df = df.sample(frac=1, replace=True, random_state=1)\n",
        "\n",
        "# first 1000 rows for training  \n",
        "\n",
        "df_training = pd.DataFrame(df[0:1000].values)\n",
        "\n",
        "# the rest (372 rows) for testing\n",
        "\n",
        "df_testing = pd.DataFrame(df[1000:].values) \n",
        "\n",
        "# writing data to csv\n",
        "\n",
        "df_training.to_csv(\"banknote_training.csv\",\n",
        "          index=False,\n",
        "          header=1,\n",
        "          mode='a')\n",
        "\n",
        "df_testing.to_csv(\"banknote_testing.csv\",\n",
        "          index=False,\n",
        "          header=1,\n",
        "          mode='a')"
      ],
      "metadata": {
        "id": "tASV-HFnBR_v"
      },
      "execution_count": 11,
      "outputs": []
    },
    {
      "cell_type": "markdown",
      "metadata": {
        "id": "nS_gwy4_Lb_B"
      },
      "source": [
        "let T = [t1, t2, ... , tn]\n",
        "\n",
        "lets try a single neuron (sometimes referred to as a perceptron) with an activation function f, such that f(T) = t1+t2+...+tn \n",
        "\n",
        "**rough description of parameters and processes**\n",
        "\n",
        "inputs - [x0, x1, x2, x3]\n",
        "\n",
        "weights - [w0, w1, w2, w3] \n",
        "\n",
        "logit - sum(inputs*weights) \n",
        "\n",
        "activation function - sum(inputs*weights)\n",
        "\n",
        "update rule (usually called delta rule) - change in wk = xk(t-inputs*weights) for k in [0,1,2,3]\n",
        "\n",
        "**rough plan**\n",
        "\n",
        "randomly assign weights\n",
        "\n",
        "run through the training set\n",
        "\n",
        "run through the test set"
      ]
    },
    {
      "cell_type": "code",
      "metadata": {
        "id": "IqU5Q37Igx_2"
      },
      "source": [
        "def random_weight():\n",
        "  return np.random.rand()*np.random.randint(0,2)"
      ],
      "execution_count": 12,
      "outputs": []
    },
    {
      "cell_type": "code",
      "metadata": {
        "id": "q5mgvCq6nZlm"
      },
      "source": [
        "# randomly initialising weights\n",
        "\n",
        "# weights = [w0, w1, w2, w3]\n",
        "\n",
        "weights = []\n",
        "\n",
        "for i in range(0,4):\n",
        "    weights.append(random_weight())\n",
        "\n",
        "weights = np.array(weights)\n",
        "\n",
        "# setting learning rate - it's good to try different learning rates \n",
        "\n",
        "learning_rate = 0.001 \n",
        "\n",
        "# training\n",
        "\n",
        "with open('/content/banknote_training.csv', newline='') as data:\n",
        "    reader = csv.reader(data)\n",
        "    for row in reader:\n",
        "        \n",
        "        inputs = np.array([float(row[0]), float(row[1]), float(row[2]), float(row[3])])\n",
        "\n",
        "        output = sum(inputs*weights)\n",
        "\n",
        "        # updating the weights\n",
        "\n",
        "        for i in range(0,4):\n",
        "          weights[i] = learning_rate*float(row[i])*(output-float(row[4]))"
      ],
      "execution_count": 24,
      "outputs": []
    },
    {
      "cell_type": "code",
      "metadata": {
        "colab": {
          "base_uri": "https://localhost:8080/"
        },
        "id": "hUSqAIbuRnBu",
        "outputId": "347fe0f6-494e-4c4f-9e2b-03be15f5c08c"
      },
      "source": [
        "# testing\n",
        "\n",
        "count = 0\n",
        "count_correct = 0\n",
        "\n",
        "with open('/content/banknote_testing.csv', newline='') as data:\n",
        "    reader = csv.reader(data)\n",
        "    for row in reader:\n",
        "      count += 1\n",
        "      inputs = np.array([float(row[0]), float(row[1]), float(row[2]), float(row[3])])\n",
        "      output = sum(inputs*weights)\n",
        "      #print(round(output),row[4])\n",
        "      if round(output) == int(float(row[4])):\n",
        "        count_correct +=1\n",
        "    print(\"weights\", weights)\n",
        "    print(count_correct/count)"
      ],
      "execution_count": 25,
      "outputs": [
        {
          "output_type": "stream",
          "name": "stdout",
          "text": [
            "weights [ 0.00467661  0.00566373 -0.01096925  0.0003345 ]\n",
            "0.514745308310992\n"
          ]
        }
      ]
    },
    {
      "cell_type": "markdown",
      "metadata": {
        "id": "7aCdpfFMTMnh"
      },
      "source": [
        "lets try using the sigmoid function as the activation function\n"
      ]
    },
    {
      "cell_type": "code",
      "metadata": {
        "id": "M0G_D9N2TLXW"
      },
      "source": [
        "# randomly initialising weights\n",
        "\n",
        "# weights = [w0, w1, w2, w3]\n",
        "\n",
        "weights = []\n",
        "\n",
        "for i in range(0,4):\n",
        "    weights.append(random_weight())\n",
        "\n",
        "weights = np.array(weights)\n",
        "\n",
        "# setting learning rate \n",
        "\n",
        "learning_rate = 0.01\n",
        "\n",
        "# training\n",
        "\n",
        "with open('/content/banknote_training.csv', newline='') as data:\n",
        "    reader = csv.reader(data)\n",
        "    for row in reader:\n",
        "        \n",
        "        inputs = np.array([float(row[0]), float(row[1]), float(row[2]), float(row[3])])\n",
        "\n",
        "        output = 1/(1+np.exp(sum(inputs*weights)))\n",
        "\n",
        "        # updating the weights\n",
        "\n",
        "        for i in range(0,4):\n",
        "          weights[i] = learning_rate*float(row[i])*output*(1-output)*(output-float(row[4]))"
      ],
      "execution_count": 28,
      "outputs": []
    },
    {
      "cell_type": "code",
      "metadata": {
        "colab": {
          "base_uri": "https://localhost:8080/"
        },
        "id": "CkxTMV_3XZgl",
        "outputId": "082828ba-e343-4f32-97e7-38a1c3a6f3b0"
      },
      "source": [
        "# testing\n",
        "\n",
        "count = 0\n",
        "count_correct = 0\n",
        "\n",
        "with open('/content/banknote_testing.csv', newline='') as data:\n",
        "    reader = csv.reader(data)\n",
        "    for row in reader:\n",
        "      count += 1\n",
        "      inputs = np.array([float(row[0]), float(row[1]), float(row[2]), float(row[3])])\n",
        "      output = 1/(1+np.exp(sum(inputs*weights)))\n",
        "      #print(round(output),row[4])\n",
        "      if round(output) == int(float(row[4])):\n",
        "        count_correct +=1\n",
        "    print(\"weights\", weights)\n",
        "    print(count_correct/count)    "
      ],
      "execution_count": 29,
      "outputs": [
        {
          "output_type": "stream",
          "name": "stdout",
          "text": [
            "weights [ 0.00553903  0.00670819 -0.01299212  0.00039618]\n",
            "0.6353887399463807\n"
          ]
        }
      ]
    }
  ]
}